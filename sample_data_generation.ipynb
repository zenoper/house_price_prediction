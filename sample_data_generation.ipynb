{
 "cells": [
  {
   "cell_type": "code",
   "id": "initial_id",
   "metadata": {
    "collapsed": true,
    "ExecuteTime": {
     "end_time": "2024-08-05T22:06:39.618285Z",
     "start_time": "2024-08-05T22:06:39.615612Z"
    }
   },
   "source": [
    "import pandas as pd\n",
    "import numpy as np"
   ],
   "outputs": [],
   "execution_count": 6
  },
  {
   "metadata": {
    "ExecuteTime": {
     "end_time": "2024-08-05T22:06:40.390369Z",
     "start_time": "2024-08-05T22:06:40.379884Z"
    }
   },
   "cell_type": "code",
   "source": [
    "# Set random seed for reproducibility\n",
    "np.random.seed(2)\n",
    "\n",
    "# Number of samples\n",
    "num_samples = 100\n",
    "\n",
    "# Generate random data\n",
    "data = {\n",
    "    \"HouseID\": [f\"HOUSE{i:03d}\" for i in range(1, num_samples + 1)],\n",
    "    \"Bedrooms\": np.random.randint(2, 6, num_samples),\n",
    "    \"Bathrooms\": np.random.randint(1, 4, num_samples),\n",
    "    \"SquareFootage\": np.random.randint(800, 4000, num_samples),\n",
    "    \"Neighborhood\": np.random.choice([\"Downtown\", \"Suburban\", \"Rural\"], num_samples),\n",
    "    \"YearBuilt\": np.random.randint(1950, 2025, num_samples),  # Includes future dates\n",
    "    \"SellingPrice\": np.round(np.random.uniform(100000, 500000, num_samples), 2),\n",
    "}\n",
    "# Introducing NaN values into YearBuilt results in error as int column can't have NaN.\n",
    "data[\"YearBuilt\"].dtype"
   ],
   "id": "b47a6d0eae33f716",
   "outputs": [
    {
     "data": {
      "text/plain": [
       "dtype('int64')"
      ]
     },
     "execution_count": 7,
     "metadata": {},
     "output_type": "execute_result"
    }
   ],
   "execution_count": 7
  },
  {
   "metadata": {
    "ExecuteTime": {
     "end_time": "2024-08-05T22:06:41.331804Z",
     "start_time": "2024-08-05T22:06:41.327333Z"
    }
   },
   "cell_type": "code",
   "source": [
    "# Introduce missing values\n",
    "data[\"YearBuilt\"] = data[\"YearBuilt\"].astype(float)\n",
    "data[\"SquareFootage\"] = data[\"SquareFootage\"].astype(float)\n",
    "data[\"SquareFootage\"][np.random.choice(num_samples, 5, replace=False)] = np.nan\n",
    "data[\"YearBuilt\"][np.random.choice(num_samples, 3, replace=False)] = np.nan\n",
    "\n",
    "# Introduce outliers in SellingPrice\n",
    "data[\"SellingPrice\"][np.random.choice(num_samples, 3, replace=False)] = np.random.uniform(10000, 20000, 3)"
   ],
   "id": "833036c8f7d903ee",
   "outputs": [],
   "execution_count": 8
  },
  {
   "metadata": {
    "ExecuteTime": {
     "end_time": "2024-08-05T22:06:42.530670Z",
     "start_time": "2024-08-05T22:06:42.520290Z"
    }
   },
   "cell_type": "code",
   "source": [
    "# Create DataFrame\n",
    "df = pd.DataFrame(data)\n",
    "\n",
    "# Introduce inconsistent data\n",
    "df.loc[df[\"Bedrooms\"] > 4, \"SquareFootage\"] = np.random.randint(500, 1000, df[df[\"Bedrooms\"] > 4].shape[0])\n",
    "\n",
    "# Display a small sample of the data\n",
    "df.head()"
   ],
   "id": "1449924f3f02c720",
   "outputs": [
    {
     "data": {
      "text/plain": [
       "    HouseID  Bedrooms  Bathrooms  SquareFootage Neighborhood  YearBuilt  \\\n",
       "0  HOUSE001         2          2         3526.0     Suburban     1963.0   \n",
       "1  HOUSE002         5          2          922.0     Downtown     1979.0   \n",
       "2  HOUSE003         3          1          912.0     Downtown     1969.0   \n",
       "3  HOUSE004         2          2         3568.0     Suburban     1970.0   \n",
       "4  HOUSE005         4          1          832.0     Suburban     2008.0   \n",
       "\n",
       "   SellingPrice  \n",
       "0     356620.30  \n",
       "1     417819.14  \n",
       "2     261851.54  \n",
       "3     148262.19  \n",
       "4     446589.60  "
      ],
      "text/html": [
       "<div>\n",
       "<style scoped>\n",
       "    .dataframe tbody tr th:only-of-type {\n",
       "        vertical-align: middle;\n",
       "    }\n",
       "\n",
       "    .dataframe tbody tr th {\n",
       "        vertical-align: top;\n",
       "    }\n",
       "\n",
       "    .dataframe thead th {\n",
       "        text-align: right;\n",
       "    }\n",
       "</style>\n",
       "<table border=\"1\" class=\"dataframe\">\n",
       "  <thead>\n",
       "    <tr style=\"text-align: right;\">\n",
       "      <th></th>\n",
       "      <th>HouseID</th>\n",
       "      <th>Bedrooms</th>\n",
       "      <th>Bathrooms</th>\n",
       "      <th>SquareFootage</th>\n",
       "      <th>Neighborhood</th>\n",
       "      <th>YearBuilt</th>\n",
       "      <th>SellingPrice</th>\n",
       "    </tr>\n",
       "  </thead>\n",
       "  <tbody>\n",
       "    <tr>\n",
       "      <th>0</th>\n",
       "      <td>HOUSE001</td>\n",
       "      <td>2</td>\n",
       "      <td>2</td>\n",
       "      <td>3526.0</td>\n",
       "      <td>Suburban</td>\n",
       "      <td>1963.0</td>\n",
       "      <td>356620.30</td>\n",
       "    </tr>\n",
       "    <tr>\n",
       "      <th>1</th>\n",
       "      <td>HOUSE002</td>\n",
       "      <td>5</td>\n",
       "      <td>2</td>\n",
       "      <td>922.0</td>\n",
       "      <td>Downtown</td>\n",
       "      <td>1979.0</td>\n",
       "      <td>417819.14</td>\n",
       "    </tr>\n",
       "    <tr>\n",
       "      <th>2</th>\n",
       "      <td>HOUSE003</td>\n",
       "      <td>3</td>\n",
       "      <td>1</td>\n",
       "      <td>912.0</td>\n",
       "      <td>Downtown</td>\n",
       "      <td>1969.0</td>\n",
       "      <td>261851.54</td>\n",
       "    </tr>\n",
       "    <tr>\n",
       "      <th>3</th>\n",
       "      <td>HOUSE004</td>\n",
       "      <td>2</td>\n",
       "      <td>2</td>\n",
       "      <td>3568.0</td>\n",
       "      <td>Suburban</td>\n",
       "      <td>1970.0</td>\n",
       "      <td>148262.19</td>\n",
       "    </tr>\n",
       "    <tr>\n",
       "      <th>4</th>\n",
       "      <td>HOUSE005</td>\n",
       "      <td>4</td>\n",
       "      <td>1</td>\n",
       "      <td>832.0</td>\n",
       "      <td>Suburban</td>\n",
       "      <td>2008.0</td>\n",
       "      <td>446589.60</td>\n",
       "    </tr>\n",
       "  </tbody>\n",
       "</table>\n",
       "</div>"
      ]
     },
     "execution_count": 9,
     "metadata": {},
     "output_type": "execute_result"
    }
   ],
   "execution_count": 9
  },
  {
   "metadata": {
    "ExecuteTime": {
     "end_time": "2024-08-05T22:06:46.912637Z",
     "start_time": "2024-08-05T22:06:46.887009Z"
    }
   },
   "cell_type": "code",
   "source": [
    "# Save to CSV file\n",
    "df.to_csv(\"/Users/bez/Desktop/HousePricePrediction/house_price_prediction_with_anomalies2.csv\", index=False)"
   ],
   "id": "376ba53784f65881",
   "outputs": [],
   "execution_count": 10
  },
  {
   "metadata": {
    "ExecuteTime": {
     "end_time": "2024-08-05T22:18:10.070136Z",
     "start_time": "2024-08-05T22:18:10.044112Z"
    }
   },
   "cell_type": "code",
   "source": "",
   "id": "fbdc811e62c8047c",
   "outputs": [],
   "execution_count": 13
  },
  {
   "metadata": {},
   "cell_type": "code",
   "outputs": [],
   "execution_count": null,
   "source": "",
   "id": "8ad64f9f952b83da"
  }
 ],
 "metadata": {
  "kernelspec": {
   "display_name": "Python 3",
   "language": "python",
   "name": "python3"
  },
  "language_info": {
   "codemirror_mode": {
    "name": "ipython",
    "version": 2
   },
   "file_extension": ".py",
   "mimetype": "text/x-python",
   "name": "python",
   "nbconvert_exporter": "python",
   "pygments_lexer": "ipython2",
   "version": "2.7.6"
  }
 },
 "nbformat": 4,
 "nbformat_minor": 5
}
